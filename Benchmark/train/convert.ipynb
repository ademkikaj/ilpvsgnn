{
 "cells": [
  {
   "cell_type": "code",
   "execution_count": 27,
   "metadata": {},
   "outputs": [],
   "source": [
    "# convert the original popper ILP to relational datasets\n",
    "import sys\n",
    "import os\n",
    "import re\n",
    "import numpy as np\n",
    "import pandas as pd\n",
    "\n",
    "output_folder = \"relational\""
   ]
  },
  {
   "cell_type": "code",
   "execution_count": 28,
   "metadata": {},
   "outputs": [],
   "source": [
    "# first do the labels\n",
    "\n",
    "labels = {\"train_id\": [], \"class\": []}\n",
    "with open(\"originalILP/exs.pl\",'r') as f:\n",
    "    lines = f.readlines()\n",
    "    \n",
    "    pattern = r'(pos|neg)\\(f\\(t(\\d+)\\)\\)'\n",
    "    \n",
    "    for line in lines:\n",
    "        match = re.match(pattern, line)\n",
    "        if match:\n",
    "            labels[\"train_id\"].append(\"t\"+match.group(2))\n",
    "            labels[\"class\"].append(match.group(1))\n",
    "\n",
    "df = pd.DataFrame(labels)\n",
    "df.to_csv(os.path.join(output_folder, \"train.csv\"), index=False)"
   ]
  },
  {
   "cell_type": "code",
   "execution_count": 29,
   "metadata": {},
   "outputs": [],
   "source": [
    "# bk file\n",
    "\n",
    "kb = {}\n",
    "with open(\"originalILP/bk.pl\",'r') as f:\n",
    "    lines = f.readlines()\n",
    "\n",
    "    pattern = r\"(\\w+)\\(([^)]+)\\)\"\n",
    "\n",
    "    for line in lines:\n",
    "        match = re.match(pattern, line)\n",
    "        if match:\n",
    "            predicate = match.group(1)\n",
    "            args = match.group(2).split(',')\n",
    "            if predicate not in kb:\n",
    "                kb[predicate] = []\n",
    "            kb[predicate].append(args)\n",
    "\n",
    "\n",
    "# turn the kb into dataframes\n",
    "\n",
    "for predicate in kb:\n",
    "    if predicate == \"has_car\":\n",
    "        columns = [\"train_id\",\"car_id\"]\n",
    "    elif predicate == \"has_load\":\n",
    "        columns = [\"car_id\",\"load_id\"]\n",
    "    elif predicate in [\"short\",\"long\",\"two_wheels\",\"three_wheels\",\"roof_open\",\"roof_closed\"]:\n",
    "        columns = [\"car_id\"]\n",
    "    elif predicate in [\"zero_load\",\"one_load\",\"two_load\",\"three_load\",\"circle\",\"triangle\",\"square\"]:\n",
    "        columns = [\"load_id\"]\n",
    "    else:\n",
    "        continue\n",
    "    df = pd.DataFrame(kb[predicate], columns = columns)\n",
    "    df.to_csv(f\"{output_folder}/{predicate}.csv\", index = False)"
   ]
  }
 ],
 "metadata": {
  "kernelspec": {
   "display_name": "ILP",
   "language": "python",
   "name": "python3"
  },
  "language_info": {
   "codemirror_mode": {
    "name": "ipython",
    "version": 3
   },
   "file_extension": ".py",
   "mimetype": "text/x-python",
   "name": "python",
   "nbconvert_exporter": "python",
   "pygments_lexer": "ipython3",
   "version": "3.9.18"
  }
 },
 "nbformat": 4,
 "nbformat_minor": 2
}
