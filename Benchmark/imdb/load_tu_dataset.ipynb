{
 "cells": [
  {
   "cell_type": "code",
   "execution_count": 1,
   "metadata": {},
   "outputs": [
    {
     "name": "stderr",
     "output_type": "stream",
     "text": [
      "Downloading https://www.chrsmrrs.com/graphkerneldatasets/IMDB-BINARY.zip\n",
      "Extracting ./IMDB-BINARY/IMDB-BINARY.zip\n",
      "Processing...\n",
      "Done!\n"
     ]
    }
   ],
   "source": [
    "from torch_geometric.data import Data\n",
    "from torch_geometric.datasets import TUDataset\n",
    "import pandas as pd\n",
    "import torch\n",
    "import os\n",
    "\n",
    "dataset = TUDataset(root='', name='IMDB-BINARY')"
   ]
  },
  {
   "cell_type": "code",
   "execution_count": 12,
   "metadata": {},
   "outputs": [
    {
     "name": "stdout",
     "output_type": "stream",
     "text": [
      "Data(edge_index=[2, 146], y=[1], num_nodes=20)\n",
      "tensor([[ 0,  0,  0,  0,  0,  1,  1,  1,  1,  1,  1,  1,  1,  2,  2,  2,  2,  2,\n",
      "          2,  2,  2,  2,  2,  2,  2,  2,  2,  2,  2,  2,  2,  2,  3,  3,  3,  3,\n",
      "          3,  3,  4,  4,  4,  4,  4,  5,  5,  5,  5,  5,  6,  6,  6,  6,  6,  6,\n",
      "          6,  6,  6,  6,  6,  7,  7,  7,  8,  8,  8,  8,  8,  8,  8,  8,  9,  9,\n",
      "          9,  9,  9, 10, 10, 10, 10, 10, 11, 11, 11, 11, 11, 11, 12, 12, 12, 12,\n",
      "         12, 12, 12, 12, 12, 12, 12, 13, 13, 13, 14, 14, 14, 14, 14, 14, 14, 14,\n",
      "         15, 15, 15, 15, 16, 16, 16, 16, 16, 16, 17, 17, 17, 17, 17, 17, 17, 17,\n",
      "         18, 18, 18, 18, 18, 18, 18, 18, 19, 19, 19, 19, 19, 19, 19, 19, 19, 19,\n",
      "         19, 19],\n",
      "        [ 2,  4,  5,  9, 10,  2,  6,  8, 12, 14, 17, 18, 19,  0,  1,  3,  4,  5,\n",
      "          6,  7,  8,  9, 10, 11, 12, 13, 14, 15, 16, 17, 18, 19,  2,  6, 11, 12,\n",
      "         16, 19,  0,  2,  5,  9, 10,  0,  2,  4,  9, 10,  1,  2,  3,  8, 11, 12,\n",
      "         14, 16, 17, 18, 19,  2, 13, 15,  1,  2,  6, 12, 14, 17, 18, 19,  0,  2,\n",
      "          4,  5, 10,  0,  2,  4,  5,  9,  2,  3,  6, 12, 16, 19,  1,  2,  3,  6,\n",
      "          8, 11, 14, 16, 17, 18, 19,  2,  7, 15,  1,  2,  6,  8, 12, 17, 18, 19,\n",
      "          2,  7, 13, 19,  2,  3,  6, 11, 12, 19,  1,  2,  6,  8, 12, 14, 18, 19,\n",
      "          1,  2,  6,  8, 12, 14, 17, 19,  1,  2,  3,  6,  8, 11, 12, 14, 15, 16,\n",
      "         17, 18]])\n"
     ]
    }
   ],
   "source": [
    "print(dataset[0])\n",
    "print(dataset[0].edge_index)"
   ]
  }
 ],
 "metadata": {
  "kernelspec": {
   "display_name": "ILP",
   "language": "python",
   "name": "python3"
  },
  "language_info": {
   "codemirror_mode": {
    "name": "ipython",
    "version": 3
   },
   "file_extension": ".py",
   "mimetype": "text/x-python",
   "name": "python",
   "nbconvert_exporter": "python",
   "pygments_lexer": "ipython3",
   "version": "3.9.18"
  }
 },
 "nbformat": 4,
 "nbformat_minor": 2
}
