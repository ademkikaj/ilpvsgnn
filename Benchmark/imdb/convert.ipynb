{
 "cells": [
  {
   "cell_type": "code",
   "execution_count": 1,
   "metadata": {},
   "outputs": [],
   "source": [
    "# convert the original popper ILP to relational datasets\n",
    "import sys\n",
    "import os\n",
    "import re\n",
    "import numpy as np\n",
    "import pandas as pd\n",
    "\n",
    "output_folder = \"relational\""
   ]
  },
  {
   "cell_type": "code",
   "execution_count": 5,
   "metadata": {},
   "outputs": [],
   "source": [
    "# first do the labels\n",
    "\n",
    "labels = {\"person1\": [],\"person2\":[],\"class\": []}\n",
    "with open(\"originalILP/exs.pl\",'r') as f:\n",
    "    lines = f.readlines()\n",
    "    \n",
    "    pattern = r'(pos|neg)\\(f\\(([\\w,]+)\\)\\)'\n",
    "    \n",
    "    for line in lines:\n",
    "        match = re.match(pattern, line)\n",
    "        if match:\n",
    "            names = match.group(2).split(\",\")\n",
    "            labels[\"person1\"].append(names[0])\n",
    "            labels[\"person2\"].append(names[1])\n",
    "            labels[\"class\"].append(match.group(1))\n",
    "\n",
    "df = pd.DataFrame(labels)\n",
    "df.to_csv(os.path.join(output_folder, \"imdb.csv\"), index=False)"
   ]
  },
  {
   "cell_type": "code",
   "execution_count": 8,
   "metadata": {},
   "outputs": [],
   "source": [
    "# select 200 examples, 100 positive and 100 negative\n",
    "df = df.groupby(\"class\").apply(lambda x: x.sample(n=100)).reset_index(drop=True)\n",
    "df.to_csv(os.path.join(output_folder, \"imdb.csv\"), index=False)"
   ]
  },
  {
   "cell_type": "code",
   "execution_count": 9,
   "metadata": {},
   "outputs": [],
   "source": [
    "# bk file\n",
    "\n",
    "kb = {}\n",
    "with open(\"originalILP/bk.pl\",'r') as f:\n",
    "    lines = f.readlines()\n",
    "\n",
    "    pattern = r\"(\\w+)\\(([^)]+)\\)\"\n",
    "\n",
    "    for line in lines:\n",
    "        match = re.match(pattern, line)\n",
    "        if match:\n",
    "            predicate = match.group(1)\n",
    "            args = match.group(2).split(',')\n",
    "            if predicate not in kb:\n",
    "                kb[predicate] = []\n",
    "            kb[predicate].append(args)"
   ]
  },
  {
   "cell_type": "code",
   "execution_count": 10,
   "metadata": {},
   "outputs": [],
   "source": [
    "\n",
    "# turn the kb into dataframes\n",
    "\n",
    "for predicate in kb:\n",
    "    if predicate == \"movie\":\n",
    "        columns = [\"movie\",\"person\"]\n",
    "    elif predicate == \"gender\":\n",
    "        columns = [\"person\",\"gender\"]\n",
    "    elif predicate == \"genre\":\n",
    "        columns = [\"person\",\"genre\"]\n",
    "    elif predicate in [\"director\",\"actor\"]:\n",
    "        columns = [\"name\"]\n",
    "    else:\n",
    "        continue\n",
    "    df = pd.DataFrame(kb[predicate], columns = columns)\n",
    "    df.to_csv(f\"{output_folder}/{predicate}.csv\", index = False)"
   ]
  }
 ],
 "metadata": {
  "kernelspec": {
   "display_name": "ILP",
   "language": "python",
   "name": "python3"
  },
  "language_info": {
   "codemirror_mode": {
    "name": "ipython",
    "version": 3
   },
   "file_extension": ".py",
   "mimetype": "text/x-python",
   "name": "python",
   "nbconvert_exporter": "python",
   "pygments_lexer": "ipython3",
   "version": "3.9.18"
  }
 },
 "nbformat": 4,
 "nbformat_minor": 2
}
