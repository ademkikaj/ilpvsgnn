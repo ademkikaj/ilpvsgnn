{
 "cells": [
  {
   "cell_type": "code",
   "execution_count": 2,
   "metadata": {},
   "outputs": [
    {
     "name": "stderr",
     "output_type": "stream",
     "text": [
      "Downloading https://www.chrsmrrs.com/graphkerneldatasets/NCI-H23.zip\n",
      "Extracting ./NCI-H23/NCI-H23.zip\n",
      "Processing...\n",
      "Done!\n"
     ]
    }
   ],
   "source": [
    "from torch_geometric.data import Data\n",
    "from torch_geometric.datasets import TUDataset\n",
    "import pandas as pd\n",
    "import torch\n",
    "import os\n",
    "\n",
    "dataset = TUDataset(root='', name='NCI-H23')"
   ]
  },
  {
   "cell_type": "code",
   "execution_count": 3,
   "metadata": {},
   "outputs": [],
   "source": [
    "# node features mapping\n",
    "symbol_to_number = {\n",
    "    \"O\": 0,\n",
    "    \"N\": 1,\n",
    "    \"C\": 2,\n",
    "    \"S\": 3,\n",
    "    \"Cl\": 4,\n",
    "    \"P\": 5,\n",
    "    \"F\": 6,\n",
    "    \"Na\": 7,\n",
    "    \"Sn\": 8,\n",
    "    \"Pt\": 9,\n",
    "    \"Ni\": 10,\n",
    "    \"Zn\": 11,\n",
    "    \"Mn\": 12,\n",
    "    \"Br\": 13,\n",
    "    \"Cu\": 14,\n",
    "    \"Co\": 15,\n",
    "    \"Se\": 16,\n",
    "    \"Au\": 17,\n",
    "    \"Pb\": 18,\n",
    "    \"Ge\": 19,\n",
    "    \"I\": 20,\n",
    "    \"Si\": 21,\n",
    "    \"Fe\": 22,\n",
    "    \"Cr\": 23,\n",
    "    \"Hg\": 24,\n",
    "    \"As\": 25,\n",
    "    \"B\": 26,\n",
    "    \"Ga\": 27,\n",
    "    \"Ti\": 28,\n",
    "    \"Bi\": 29,\n",
    "    \"Y\": 30,\n",
    "    \"Nd\": 31,\n",
    "    \"Eu\": 32,\n",
    "    \"Tl\": 33,\n",
    "    \"Zr\": 34,\n",
    "    \"Hf\": 35,\n",
    "    \"In\": 36,\n",
    "    \"K\": 37,\n",
    "    \"La\": 38,\n",
    "    \"Ce\": 39,\n",
    "    \"Sm\": 40,\n",
    "    \"Gd\": 41,\n",
    "    \"Dy\": 42,\n",
    "    \"U\": 43,\n",
    "    \"Pd\": 44,\n",
    "    \"Ir\": 45,\n",
    "    \"Re\": 46,\n",
    "    \"Li\": 47,\n",
    "    \"Sb\": 48,\n",
    "    \"W\": 49,\n",
    "    \"Mg\": 50,\n",
    "    \"Ru\": 51,\n",
    "    \"Rh\": 52,\n",
    "    \"Os\": 53,\n",
    "    \"Th\": 54,\n",
    "    \"Mo\": 55,\n",
    "    \"Nb\": 56,\n",
    "    \"Ta\": 57,\n",
    "    \"Ag\": 58,\n",
    "    \"Cd\": 59,\n",
    "    \"Er\": 60,\n",
    "    \"V\": 61,\n",
    "    \"Ac\": 62,\n",
    "    \"Te\": 63,\n",
    "    \"Al\": 64,\n",
    "}\n",
    "number_to_symbol = {v: k for k, v in symbol_to_number.items()}"
   ]
  },
  {
   "cell_type": "code",
   "execution_count": 4,
   "metadata": {},
   "outputs": [],
   "source": [
    "# edge features mapping\n",
    "array_to_number = {\n",
    "    0 : 1,\n",
    "    1 : 2,\n",
    "    2 : 3,\n",
    "}"
   ]
  },
  {
   "cell_type": "code",
   "execution_count": 5,
   "metadata": {},
   "outputs": [
    {
     "name": "stdout",
     "output_type": "stream",
     "text": [
      "dict_keys([0, 1, 2])\n"
     ]
    }
   ],
   "source": [
    "print(array_to_number.keys())"
   ]
  },
  {
   "cell_type": "code",
   "execution_count": 6,
   "metadata": {},
   "outputs": [],
   "source": [
    "data_list = []\n",
    "# select 100 positive graphs and 100 negative graphs\n",
    "positive_count = 0\n",
    "negative_count = 0\n",
    "for i in range(len(dataset)):\n",
    "    data = dataset[i]\n",
    "    if data.y.item() == 1:\n",
    "        if positive_count < 100:\n",
    "            positive_count += 1\n",
    "            data_list.append(data)\n",
    "    else:\n",
    "        if negative_count < 100:\n",
    "            negative_count += 1\n",
    "            data_list.append(data)\n",
    "    if positive_count == 100 and negative_count == 100:\n",
    "        break\n"
   ]
  },
  {
   "cell_type": "code",
   "execution_count": 7,
   "metadata": {},
   "outputs": [],
   "source": [
    "# convert the graph to relational data tables\n",
    "\n",
    "kb = {}\n",
    "kb[\"molecule\"] = pd.DataFrame(columns=[\"id\",\"class\"])\n",
    "kb[\"atom\"] = pd.DataFrame(columns=[\"id\",\"atom_id\",\"atom_type\"])\n",
    "kb[\"bond\"] = pd.DataFrame(columns=[\"id\",\"atom1\",\"atom2\",\"bond_type\"])\n",
    "molecule = {\"id\": [], \"class\": []}\n",
    "atom = {\"id\": [], \"atom_id\": [], \"atom_type\": []}\n",
    "bond = {\"id\": [], \"atom1\": [], \"atom2\": [], \"bond_type\": []}\n",
    "\n",
    "for i, graph in enumerate(data_list):\n",
    "    # add molecule\n",
    "    molecule[\"id\"].append(i)\n",
    "    label = \"pos\" if graph.y.item() == 1 else \"neg\"\n",
    "    molecule[\"class\"].append(label)\n",
    "    # add atoms\n",
    "    for j, atm in enumerate(graph.x):\n",
    "        atom[\"id\"].append(i)\n",
    "        atom[\"atom_id\"].append(j)\n",
    "        atom_type = number_to_symbol[torch.nonzero(atm).item()]\n",
    "        atom[\"atom_type\"].append(atom_type)\n",
    "    # add bonds\n",
    "    for j, bnd in enumerate(graph.edge_index.t()):\n",
    "        bond[\"id\"].append(i)\n",
    "        bond[\"atom1\"].append(bnd[0].item())\n",
    "        bond[\"atom2\"].append(bnd[1].item())\n",
    "        bond_type = array_to_number[torch.nonzero(graph.edge_attr[j]).item()]\n",
    "        bond[\"bond_type\"].append(bond_type)\n",
    "\n",
    "kb[\"molecule\"] = pd.DataFrame(molecule)\n",
    "kb[\"atom\"] = pd.DataFrame(atom)\n",
    "kb[\"bond\"] = pd.DataFrame(bond)\n",
    "# save the relational data tables\n",
    "for table_name, table in kb.items():\n",
    "    table.to_csv(os.path.join(\"..\",\"..\",\"docker\",\"Benchmark\",\"nci\",\"relational\",f\"{table_name}.csv\"), index=False)"
   ]
  },
  {
   "cell_type": "code",
   "execution_count": 8,
   "metadata": {},
   "outputs": [
    {
     "name": "stdout",
     "output_type": "stream",
     "text": [
      "Length of dataset:  40353\n",
      "Number of classes:  2\n",
      "Number of node features:  65\n",
      "Number of edge features:  3\n",
      "Amount of positive samples:  2057\n",
      "Amount of negative samples:  38296\n"
     ]
    }
   ],
   "source": [
    "print(\"Length of dataset: \", len(dataset))\n",
    "print(\"Number of classes: \", dataset.num_classes)\n",
    "print(\"Number of node features: \", dataset.num_node_features)\n",
    "print(\"Number of edge features: \", dataset.num_edge_features)\n",
    "print(\"Amount of positive samples: \", len([graph for graph in dataset if graph.y.item() == 1]))\n",
    "print(\"Amount of negative samples: \", len([graph for graph in dataset if graph.y.item() == 0]))"
   ]
  },
  {
   "cell_type": "code",
   "execution_count": 9,
   "metadata": {},
   "outputs": [
    {
     "name": "stdout",
     "output_type": "stream",
     "text": [
      "Average number of nodes:  26.07270834882165\n",
      "Average number of edges:  56.200877258196414\n"
     ]
    }
   ],
   "source": [
    "total_nodes = 0\n",
    "total_edges = 0\n",
    "for graph in dataset:\n",
    "    total_nodes += graph.num_nodes\n",
    "    total_edges += graph.num_edges\n",
    "\n",
    "print(\"Average number of nodes: \", total_nodes / len(dataset))\n",
    "print(\"Average number of edges: \", total_edges / len(dataset))"
   ]
  },
  {
   "cell_type": "code",
   "execution_count": 10,
   "metadata": {},
   "outputs": [
    {
     "name": "stdout",
     "output_type": "stream",
     "text": [
      "tensor([[  0,   1,   2,   3,   4,   4,   5,   6,   7,   8,   8,   9,  10,  11,\n",
      "          12,  13,  14,  15,  16,  17,  17,  18,  18,  19,  19,  19,  20,  20,\n",
      "          20,  21,  21,  21,  22,  22,  22,  23,  23,  24,  24,  24,  25,  25,\n",
      "          26,  26,  26,  27,  27,  28,  28,  29,  29,  30,  30,  31,  31,  31,\n",
      "          32,  32,  32,  33,  33,  33,  34,  34,  34,  35,  35,  35,  36,  36,\n",
      "          36,  37,  37,  38,  38,  39,  39,  39,  40,  40,  40,  41,  41,  41,\n",
      "          42,  42,  42,  43,  43,  44,  44,  44,  45,  45,  45,  46,  47,  47,\n",
      "          47,  48,  48,  48,  49,  50,  50,  50,  51,  51,  51,  52,  52,  52,\n",
      "          53,  53,  53,  54,  54,  54,  55,  55,  55,  56,  56,  56,  57,  57,\n",
      "          58,  59,  60,  61,  61,  62,  62,  63,  63,  64,  64,  64,  65,  65,\n",
      "          65,  66,  66,  66,  67,  67,  67,  68,  68,  69,  69,  69,  70,  71,\n",
      "          71,  72,  72,  72,  73,  73,  73,  74,  74,  75,  75,  76,  76,  76,\n",
      "          77,  77,  77,  78,  78,  79,  79,  80,  80,  81,  81,  81,  82,  82,\n",
      "          82,  83,  84,  85,  85,  86,  86,  86,  87,  87,  87,  88,  89,  89,\n",
      "          90,  91,  92,  92,  92,  93,  93,  93,  94,  94,  95,  95,  96,  97,\n",
      "          97,  98,  98,  98,  99,  99, 100, 100, 101, 101, 102, 102, 103, 103,\n",
      "         104, 104, 105, 105, 106, 106, 107, 107, 107, 108, 108, 108, 109, 110],\n",
      "        [ 33,  35,  39,  41,  76,  77,  44,  50,  52,  87,  92,  56,  66,  67,\n",
      "          72,  73,  82,  93,  98, 107, 109, 108, 110,  32,  35,  46,  31,  41,\n",
      "          49,  36,  39,  58,  34,  50,  59,  40,  56,  45,  67,  84,  44,  54,\n",
      "          51,  73,  88,  47,  66,  52,  64,  65,  72,  69,  82,  20,  33,  35,\n",
      "          19,  37,  44,   0,  31,  42,  22,  38,  39,   1,  19,  31,  21,  43,\n",
      "          52,  32,  48,  34,  53,   2,  21,  34,  23,  41,  60,   3,  20,  40,\n",
      "          33,  61,  62,  36,  55,   5,  25,  32,  24,  56,  57,  19,  27,  50,\n",
      "          70,  37,  68,  71,  20,   6,  22,  47,  26,  63,  66,   7,  28,  36,\n",
      "          38,  74,  75,  25,  72,  83,  43,  80,  85,   9,  23,  45,  45,  81,\n",
      "          21,  22,  40,  42,  78,  42,  79,  51,  86,  28,  82,  90,  29,  67,\n",
      "          91,  10,  27,  51,  11,  24,  65,  48,  77,  30,  73,  96,  47,  48,\n",
      "          89,  12,  29,  54,  13,  26,  69,  53,  94,  53,  95,   4,  78,  79,\n",
      "           4,  68,  93,  61,  76,  62,  76,  55,  87,  57,  99, 100,  14,  30,\n",
      "          64,  54,  24,  55,  97,  63, 101, 102,   8,  80,  98,  26,  71,  93,\n",
      "          64,  65,   8,  94,  95,  15,  77,  89,  74,  92,  75,  92,  69,  85,\n",
      "          98,  16,  87,  97,  81, 103,  81, 104,  86, 105,  86, 106,  99, 107,\n",
      "         100, 107, 101, 108, 102, 108,  17, 103, 104,  18, 105, 106,  17,  18]])\n"
     ]
    }
   ],
   "source": [
    "print(dataset[0].edge_index)"
   ]
  },
  {
   "cell_type": "code",
   "execution_count": 25,
   "metadata": {},
   "outputs": [
    {
     "data": {
      "image/png": "[encoded data removed]",
      "text/plain": [
       "<Figure size 640x480 with 1 Axes>"
      ]
     },
     "metadata": {},
     "output_type": "display_data"
    },
    {
     "name": "stdout",
     "output_type": "stream",
     "text": [
      "Graph label:  0\n"
     ]
    }
   ],
   "source": [
    "# plot a graph using networkx\n",
    "import networkx as nx\n",
    "import matplotlib.pyplot as plt\n",
    "\n",
    "pos_graphs = [graph for graph in dataset if graph.y.item() == 1]\n",
    "neg_graphs = [graph for graph in dataset if graph.y.item() == 0]\n",
    "\n",
    "graph = neg_graphs[3]\n",
    "G = nx.Graph()\n",
    "G.add_nodes_from(range(graph.num_nodes))\n",
    "edges = graph.edge_index.t().tolist()\n",
    "G.add_edges_from(edges)\n",
    "\n",
    "plt.figure()\n",
    "nx.draw(G, with_labels=True,pos=nx.spring_layout(G))\n",
    "plt.show()\n",
    "print(\"Graph label: \", graph.y.item())"
   ]
  }
 ],
 "metadata": {
  "kernelspec": {
   "display_name": "ILP",
   "language": "python",
   "name": "python3"
  },
  "language_info": {
   "codemirror_mode": {
    "name": "ipython",
    "version": 3
   },
   "file_extension": ".py",
   "mimetype": "text/x-python",
   "name": "python",
   "nbconvert_exporter": "python",
   "pygments_lexer": "ipython3",
   "version": "3.9.18"
  }
 },
 "nbformat": 4,
 "nbformat_minor": 2
}
