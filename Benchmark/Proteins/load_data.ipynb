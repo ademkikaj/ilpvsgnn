{
 "cells": [
  {
   "cell_type": "code",
   "execution_count": 18,
   "metadata": {},
   "outputs": [],
   "source": [
    "from torch_geometric.data import Data\n",
    "from torch_geometric.datasets import TUDataset\n",
    "import pandas as pd\n",
    "import torch\n",
    "import os\n",
    "\n",
    "dataset = TUDataset(root='', name='PROTEINS')"
   ]
  },
  {
   "cell_type": "code",
   "execution_count": 19,
   "metadata": {},
   "outputs": [
    {
     "name": "stdout",
     "output_type": "stream",
     "text": [
      "Length of dataset:  1113\n",
      "Number of classes:  2\n",
      "Number of node features:  3\n",
      "Number of edge features:  0\n"
     ]
    }
   ],
   "source": [
    "print(\"Length of dataset: \", len(dataset))\n",
    "print(\"Number of classes: \", dataset.num_classes)\n",
    "print(\"Number of node features: \", dataset.num_node_features)\n",
    "print(\"Number of edge features: \", dataset.num_edge_features)"
   ]
  },
  {
   "cell_type": "code",
   "execution_count": 20,
   "metadata": {},
   "outputs": [],
   "source": [
    "data_list = []\n",
    "# select 100 positive graphs and 100 negative graphs\n",
    "positive_count = 0\n",
    "negative_count = 0\n",
    "for i in range(len(dataset)):\n",
    "    data = dataset[i]\n",
    "    if data.y.item() == 1:\n",
    "        if positive_count < 100:\n",
    "            positive_count += 1\n",
    "            data_list.append(data)\n",
    "    else:\n",
    "        if negative_count < 100:\n",
    "            negative_count += 1\n",
    "            data_list.append(data)\n",
    "    if positive_count == 100 and negative_count == 100:\n",
    "        break"
   ]
  }
 ],
 "metadata": {
  "kernelspec": {
   "display_name": "ILP",
   "language": "python",
   "name": "python3"
  },
  "language_info": {
   "codemirror_mode": {
    "name": "ipython",
    "version": 3
   },
   "file_extension": ".py",
   "mimetype": "text/x-python",
   "name": "python",
   "nbconvert_exporter": "python",
   "pygments_lexer": "ipython3",
   "version": "3.9.18"
  }
 },
 "nbformat": 4,
 "nbformat_minor": 2
}
