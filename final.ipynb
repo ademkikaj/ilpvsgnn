{
 "cells": [
  {
   "cell_type": "code",
   "execution_count": 1,
   "metadata": {},
   "outputs": [],
   "source": [
    "## imports\n",
    "from Experiments.experiment import Experiment\n",
    "import torch\n",
    "import os\n",
    "import shutil"
   ]
  },
  {
   "cell_type": "code",
   "execution_count": 2,
   "metadata": {},
   "outputs": [],
   "source": [
    "##### Bongard Dataset  #####\n",
    "from datasets.Bongard.toGraph import toGraph\n",
    "from datasets.Bongard.toLogic import toLogic \n",
    "\n",
    "\n",
    "# Declaring the experiment\n",
    "exp = Experiment(\n",
    "    path='Bongard_exp',\n",
    "    logic=False,\n",
    "    relational=True,\n",
    "    graph=False,\n",
    "    gnn_config_path='gnn_config.yaml',\n",
    "    dataset_name='bongard'\n",
    ")\n",
    "\n",
    "# copy the relational data from original to experiment folder, all the csv file in directory\n",
    "for file in os.listdir('datasets_relational/Bongard'):\n",
    "    if file.endswith('.csv'):\n",
    "        shutil.copy('datasets_relational/Bongard/'+file,exp.relational_path)\n",
    "\n"
   ]
  },
  {
   "cell_type": "code",
   "execution_count": 3,
   "metadata": {},
   "outputs": [
    {
     "name": "stdout",
     "output_type": "stream",
     "text": [
      "\n"
     ]
    },
    {
     "ename": "ValueError",
     "evalue": "could not convert string to float: ''",
     "output_type": "error",
     "traceback": [
      "\u001b[0;31m---------------------------------------------------------------------------\u001b[0m",
      "\u001b[0;31mValueError\u001b[0m                                Traceback (most recent call last)",
      "Cell \u001b[0;32mIn[3], line 48\u001b[0m\n\u001b[1;32m     37\u001b[0m logic_converter\u001b[38;5;241m.\u001b[39medge_based(graphs\u001b[38;5;241m=\u001b[39mgraphs)\n\u001b[1;32m     40\u001b[0m \u001b[38;5;66;03m# graphs = graph_converter.Klog()\u001b[39;00m\n\u001b[1;32m     41\u001b[0m \u001b[38;5;66;03m# test_graphs = graph_converter_test.Klog()\u001b[39;00m\n\u001b[1;32m     42\u001b[0m \u001b[38;5;66;03m# torch.save(graphs,os.path.join(exp.graph_path,'Klog.pt'))\u001b[39;00m\n\u001b[0;32m   (...)\u001b[0m\n\u001b[1;32m     45\u001b[0m \n\u001b[1;32m     46\u001b[0m \u001b[38;5;66;03m# exp.run_logic()\u001b[39;00m\n\u001b[0;32m---> 48\u001b[0m \u001b[43mexp\u001b[49m\u001b[38;5;241;43m.\u001b[39;49m\u001b[43mrun_representations\u001b[49m\u001b[43m(\u001b[49m\u001b[38;5;124;43m'\u001b[39;49m\u001b[38;5;124;43mnode_only\u001b[39;49m\u001b[38;5;124;43m'\u001b[39;49m\u001b[43m)\u001b[49m\n",
      "File \u001b[0;32m~/Master thesis/Benchmarking-GNN-ILP/Experiments/experiment.py:693\u001b[0m, in \u001b[0;36mExperiment.run_representations\u001b[0;34m(self, repr)\u001b[0m\n\u001b[1;32m    691\u001b[0m output \u001b[38;5;241m=\u001b[39m subprocess\u001b[38;5;241m.\u001b[39mrun([\u001b[38;5;124m\"\u001b[39m\u001b[38;5;124mpython\u001b[39m\u001b[38;5;124m\"\u001b[39m, \u001b[38;5;124m\"\u001b[39m\u001b[38;5;124mExperiments/Prolog/test_hypothesis.py\u001b[39m\u001b[38;5;124m\"\u001b[39m,\u001b[38;5;28mself\u001b[39m\u001b[38;5;241m.\u001b[39mlogic_path,\u001b[38;5;28mself\u001b[39m\u001b[38;5;241m.\u001b[39mdataset_name,\u001b[38;5;28mself\u001b[39m\u001b[38;5;241m.\u001b[39mrelational_path,\u001b[38;5;28mself\u001b[39m\u001b[38;5;241m.\u001b[39mlogic_path \u001b[38;5;241m+\u001b[39m \u001b[38;5;124mf\u001b[39m\u001b[38;5;124m\"\u001b[39m\u001b[38;5;124m/tilde/\u001b[39m\u001b[38;5;132;01m{\u001b[39;00m\u001b[38;5;28mself\u001b[39m\u001b[38;5;241m.\u001b[39mdataset_name\u001b[38;5;132;01m}\u001b[39;00m\u001b[38;5;124m_out_\u001b[39m\u001b[38;5;132;01m{\u001b[39;00m\u001b[38;5;28mself\u001b[39m\u001b[38;5;241m.\u001b[39mindex\u001b[38;5;132;01m}\u001b[39;00m\u001b[38;5;124m.pl\u001b[39m\u001b[38;5;124m\"\u001b[39m],capture_output\u001b[38;5;241m=\u001b[39m\u001b[38;5;28;01mTrue\u001b[39;00m, text\u001b[38;5;241m=\u001b[39m\u001b[38;5;28;01mTrue\u001b[39;00m)\n\u001b[1;32m    692\u001b[0m \u001b[38;5;28mprint\u001b[39m(output\u001b[38;5;241m.\u001b[39mstdout)\n\u001b[0;32m--> 693\u001b[0m accuracy \u001b[38;5;241m=\u001b[39m \u001b[38;5;28;43mfloat\u001b[39;49m\u001b[43m(\u001b[49m\u001b[43moutput\u001b[49m\u001b[38;5;241;43m.\u001b[39;49m\u001b[43mstdout\u001b[49m\u001b[43m)\u001b[49m\n\u001b[1;32m    694\u001b[0m \u001b[38;5;28mprint\u001b[39m(\u001b[38;5;124m\"\u001b[39m\u001b[38;5;124mTilde accuracy: \u001b[39m\u001b[38;5;124m\"\u001b[39m, accuracy)\n\u001b[1;32m    696\u001b[0m graphs \u001b[38;5;241m=\u001b[39m \u001b[38;5;124mf\u001b[39m\u001b[38;5;124m\"\u001b[39m\u001b[38;5;124mtoGraph(self.relational_path).\u001b[39m\u001b[38;5;132;01m{\u001b[39;00m\u001b[38;5;28mrepr\u001b[39m\u001b[38;5;132;01m}\u001b[39;00m\u001b[38;5;124m()\u001b[39m\u001b[38;5;124m\"\u001b[39m\n",
      "\u001b[0;31mValueError\u001b[0m: could not convert string to float: ''"
     ]
    }
   ],
   "source": [
    "\n",
    "\n",
    "# Split the relational data in train and test set\n",
    "exp.split_relational_data()\n",
    "\n",
    "# Convert the relational data to graph data and convert these \n",
    "graph_representations = ['node_only','node_edge','edge_based','Klog']\n",
    "\n",
    "graph_converter = toGraph(exp.relational_path)\n",
    "graph_converter_test = toGraph(exp.relational_test_path)\n",
    "\n",
    "logic_converter = toLogic(exp.base_path)\n",
    "\n",
    "## node_only\n",
    "# graph conversion\n",
    "graphs = graph_converter.node_only()\n",
    "test_graphs = graph_converter_test.node_only()\n",
    "torch.save(graphs,os.path.join(exp.graph_path,'node_only.pt'))\n",
    "torch.save(test_graphs,os.path.join(exp.graph_path,'test/node_only.pt'))\n",
    "# graph back to logic conversion\n",
    "logic_converter.node_only(graphs=graphs)\n",
    "\n",
    "## node_edge\n",
    "# graph conversion\n",
    "graphs = graph_converter.node_edge()\n",
    "test_graphs = graph_converter_test.node_edge()\n",
    "torch.save(graphs,os.path.join(exp.graph_path,'node_edge.pt'))\n",
    "torch.save(test_graphs,os.path.join(exp.graph_path,'test/node_edge.pt'))\n",
    "# graph back to logic conversion\n",
    "logic_converter.node_edge(graphs=graphs)\n",
    "\n",
    "## Edge_based\n",
    "# graph conversion\n",
    "graphs = graph_converter.edge_based()\n",
    "test_graphs = graph_converter_test.edge_based()\n",
    "torch.save(graphs,os.path.join(exp.graph_path,'edge_based.pt'))\n",
    "torch.save(test_graphs,os.path.join(exp.graph_path,'test/edge_based.pt'))\n",
    "# graph back to logic conversion\n",
    "logic_converter.edge_based(graphs=graphs)\n",
    "\n",
    "\n",
    "# graphs = graph_converter.Klog()\n",
    "# test_graphs = graph_converter_test.Klog()\n",
    "# torch.save(graphs,os.path.join(exp.graph_path,'Klog.pt'))\n",
    "# torch.save(test_graphs,os.path.join(exp.graph_path,'test/Klog.pt'))\n",
    "\n",
    "\n",
    "# exp.run_logic()\n",
    "\n",
    "exp.run_representations('node_only')\n",
    "\n"
   ]
  }
 ],
 "metadata": {
  "kernelspec": {
   "display_name": "ILP",
   "language": "python",
   "name": "python3"
  },
  "language_info": {
   "codemirror_mode": {
    "name": "ipython",
    "version": 3
   },
   "file_extension": ".py",
   "mimetype": "text/x-python",
   "name": "python",
   "nbconvert_exporter": "python",
   "pygments_lexer": "ipython3",
   "version": "3.9.18"
  }
 },
 "nbformat": 4,
 "nbformat_minor": 2
}
